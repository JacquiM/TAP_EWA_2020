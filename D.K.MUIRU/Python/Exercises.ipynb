{
  "nbformat": 4,
  "nbformat_minor": 0,
  "metadata": {
    "colab": {
      "name": "Exercises.ipynb",
      "provenance": []
    },
    "kernelspec": {
      "name": "python3",
      "display_name": "Python 3"
    }
  },
  "cells": [
    {
      "cell_type": "markdown",
      "metadata": {
        "id": "RqAU6ulHqIdd"
      },
      "source": [
        "# 1. Character Input"
      ]
    },
    {
      "cell_type": "markdown",
      "metadata": {
        "id": "tYQOtXryqQLc"
      },
      "source": [
        "Create a program that asks the user to enter their name and their age. Print out a message addressed to them that tells them the year that they will turn 100 years old.\n",
        "\n",
        "Extras:\n",
        "\n",
        "\n",
        "> 1. Add on to the previous program by asking the user for another number and printing out that many copies of the previous message. (Hint: order of operations exists in Python)\n",
        "2. Print out that many copies of the previous message on separate lines. (Hint: the string \"\\n is the same as pressing the ENTER button)\n",
        "\n",
        "\n"
      ]
    },
    {
      "cell_type": "code",
      "metadata": {
        "colab": {
          "base_uri": "https://localhost:8080/"
        },
        "id": "VSzQZiBU7KCL",
        "outputId": "176c48fb-3bb3-4673-acc8-bf87c29208ec"
      },
      "source": [
        "name = input('What is your name:')\n",
        "age = int(input('What is your age?: '))\n",
        "turn_100 = 100 - age\n",
        "years = turn_100 + 2020\n",
        "print(f' Your name is {name} and your age is  {age}.You will turn 100 years in the year:{years}')\n",
        "\n"
      ],
      "execution_count": null,
      "outputs": [
        {
          "output_type": "stream",
          "text": [
            "What is your name:Derrick\n",
            "What is your age?: 25\n",
            " Your name is Derrick and your age is  25 You will turn 100 years in the year:2095\n"
          ],
          "name": "stdout"
        }
      ]
    },
    {
      "cell_type": "markdown",
      "metadata": {
        "id": "NCK6brH_AMO6"
      },
      "source": [
        "2. Ask the user for a number. Depending on whether the number is even or odd, print out an appropriate message to the user. Hint: how does an even / odd number react differently when divided by 2?"
      ]
    },
    {
      "cell_type": "code",
      "metadata": {
        "colab": {
          "base_uri": "https://localhost:8080/"
        },
        "id": "xUtdAE_1-TlH",
        "outputId": "4c68e755-990e-4a3b-9667-1a4f4b52e778"
      },
      "source": [
        "new_number = int(input(\"Please input a new number:\"))\n",
        "even = new_number%2\n",
        "if even !=0:\n",
        "  print(str(new_number)+ \" is an odd number\")\n",
        "else:\n",
        "  print(str(new_number)+ \" is an even number\")"
      ],
      "execution_count": null,
      "outputs": [
        {
          "output_type": "stream",
          "text": [
            "Please input a new number:2\n",
            "2 is an even number\n"
          ],
          "name": "stdout"
        }
      ]
    },
    {
      "cell_type": "markdown",
      "metadata": {
        "id": "r0pNwmFRDOu9"
      },
      "source": [
        "3. Take a list, say for example this one:\n",
        "\n",
        "  a = [1, 1, 2, 3, 5, 8, 13, 21, 34, 55, 89]\n",
        "\n",
        "and write a program that prints out all the elements of the list that are less than 5.\n",
        "\n",
        "Extras:\n",
        "\n",
        "Instead of printing the elements one by one, make a new list that has all the elements less than 5 from this list in it and print out this new list.\n",
        "Write this in one line of Python.\n",
        "\n",
        "Ask the user for a number and return a list that contains only elements from the original list a that are smaller than that number given by the user."
      ]
    },
    {
      "cell_type": "code",
      "metadata": {
        "colab": {
          "base_uri": "https://localhost:8080/"
        },
        "id": "tR00I805-jQQ",
        "outputId": "2e1055fc-aa0f-40b3-88da-bee9a48a818c"
      },
      "source": [
        "a = [1, 1, 2, 3, 5, 8, 13, 21, 34, 55, 89]\n",
        "for items in a:\n",
        "  newlist = []\n",
        "  if items < 5:\n",
        "   newlist.append(items)\n",
        "   print(newlist)"
      ],
      "execution_count": null,
      "outputs": [
        {
          "output_type": "stream",
          "text": [
            "[1]\n",
            "[1]\n",
            "[2]\n",
            "[3]\n"
          ],
          "name": "stdout"
        }
      ]
    },
    {
      "cell_type": "markdown",
      "metadata": {
        "id": "4tUjUSbvWkiq"
      },
      "source": [
        "5. Take two lists, say for example these two:\n",
        "\n",
        "  a = [1, 1, 2, 3, 5, 8, 13, 21, 34, 55, 89]\n",
        "\n",
        "  b = [1, 2, 3, 4, 5, 6, 7, 8, 9, 10, 11, 12, 13]\n",
        "\n",
        "and write a program that returns a list that contains only the elements that are common between the lists (without duplicates). Make sure your program works on two lists of different sizes.\n",
        "\n",
        "Extras:\n",
        "\n",
        "Randomly generate two lists to test this\n",
        "Write this in one line of Python"
      ]
    },
    {
      "cell_type": "code",
      "metadata": {
        "colab": {
          "base_uri": "https://localhost:8080/"
        },
        "id": "r0JOfG3OEgTp",
        "outputId": "a8118071-2b01-41cf-f6b3-7dfb96dabc64"
      },
      "source": [
        "a = [1, 1, 2, 3, 5, 8, 13, 21, 34, 55, 89]\n",
        "\n",
        "b = [1, 2, 3, 4, 5, 6, 7, 8, 9, 10, 11, 12, 13]\n",
        "#declare an empty list\n",
        "empty_list = []\n",
        "#Check if an item is consisted in the two lists and polulate in empty list\n",
        "\n",
        "for item1 in a:\n",
        "  for item2 in b:\n",
        "    if item1 == item2:\n",
        "      empty_list.append(item1)\n",
        "print(empty_list)\n",
        " "
      ],
      "execution_count": null,
      "outputs": [
        {
          "output_type": "stream",
          "text": [
            "[1, 1, 2, 3, 5, 8, 13]\n"
          ],
          "name": "stdout"
        }
      ]
    },
    {
      "cell_type": "code",
      "metadata": {
        "colab": {
          "base_uri": "https://localhost:8080/"
        },
        "id": "eNf6Y_zWiOmv",
        "outputId": "2896c28a-3607-42fe-ef0d-b0ccd4c7d5b0"
      },
      "source": [
        "# Python program to check\n",
        "# if a string is palindrome \n",
        "# or not\n",
        " \n",
        "x = \"malyalam\"\n",
        " \n",
        "w = \"\"\n",
        "for i in x:\n",
        "    w = i + w\n",
        "    print(w)\n",
        "if (x == w):\n",
        "    print(\"It is a palindrome\")\n",
        "else:\n",
        "    print(\"No not a palindrome\")"
      ],
      "execution_count": null,
      "outputs": [
        {
          "output_type": "stream",
          "text": [
            "m\n",
            "am\n",
            "lam\n",
            "ylam\n",
            "aylam\n",
            "laylam\n",
            "alaylam\n",
            "malaylam\n",
            "No not a palindrome\n"
          ],
          "name": "stdout"
        }
      ]
    },
    {
      "cell_type": "markdown",
      "metadata": {
        "id": "1KI2mZCu8MgV"
      },
      "source": [
        "List comprehensions"
      ]
    },
    {
      "cell_type": "code",
      "metadata": {
        "colab": {
          "base_uri": "https://localhost:8080/"
        },
        "id": "dtcNENfL8K7_",
        "outputId": "80cadbd6-1825-431e-ce25-da7e14c3dd71"
      },
      "source": [
        "a= [1,4,9,16,25,36,49,64,81,100]\n",
        "list1 = [i for i in a if i%2  == 0]\n",
        "print(list1)"
      ],
      "execution_count": null,
      "outputs": [
        {
          "output_type": "stream",
          "text": [
            "[4, 16, 36, 64, 100]\n"
          ],
          "name": "stdout"
        }
      ]
    },
    {
      "cell_type": "markdown",
      "metadata": {
        "id": "pR3-SLIAkVvZ"
      },
      "source": [
        "Make a two-player Rock-Paper-Scissors game. \n",
        "(Hint: Ask for player plays (using input), compare them, print out a message of congratulations to the winner, and ask if the players want to start a new game"
      ]
    },
    {
      "cell_type": "code",
      "metadata": {
        "id": "0myt1T22kgjQ"
      },
      "source": [
        "#rock\n",
        "#paper\n",
        "#scissors"
      ],
      "execution_count": null,
      "outputs": []
    },
    {
      "cell_type": "code",
      "metadata": {
        "id": "6ceOtI80j7xz",
        "colab": {
          "base_uri": "https://localhost:8080/"
        },
        "outputId": "69f35d3a-f664-4a75-a4f9-8fc7d8ab4f7f"
      },
      "source": [
        "input1 = input('Player1 ,Please put your input,Rock, Paper or Scissors: ')\n",
        "input2 = input('Player2, Please input your input, Rock, Paper or Scissors: ')\n",
        "\n",
        "if input1 == 'rock'and input2 =='paper':\n",
        "  print('player2 wins for Paper covers rock')\n",
        "elif input1 == 'paper'and input2 =='rock':\n",
        "  print('player1 wins for Paper covers rock')  \n",
        "elif input1 =='scissors' and input2 =='paper':\n",
        "  print('Player1 wins for Scissors cuts paper')\n",
        "elif input1 =='paper' and input2 =='scissors':\n",
        "  print('Player2 wins for Scissors cuts paper')\n",
        "elif input1 =='rock' and input2 =='scissors':\n",
        "  print('player1 wins for scissors cannot cut rock')\n",
        "elif input1 =='scissors' and input2 =='rock':\n",
        "  print('player2 wins for scissors cannot cut rock')\n",
        "elif input1 == input2:\n",
        "   print('You have chosen the same items, choose again')\n",
        "else:\n",
        "   print(\"Wrong inputs\")\n",
        "answer = input(\"Do you want to play another round of rock paper,scissors?: \") \n",
        "if answer == \"yes\":\n",
        "  print('Awesome, run the code to start the game')    \n",
        "else:\n",
        "  print(\"Thank you for playing Rock, paper, scissors\") \n",
        "    \n",
        "  \n"
      ],
      "execution_count": null,
      "outputs": [
        {
          "output_type": "stream",
          "text": [
            "Player1 ,Please put your input,Rock, Paper or Scissors: paper\n",
            "Player2, Please input your input, Rock, Paper or Scissors: scissors\n",
            "Player2 wins for Scissors cuts paper\n",
            "Do you want to play another round of rock paper,scissors?: no\n",
            "Thank you for playing Rock, paper, scissors\n"
          ],
          "name": "stdout"
        }
      ]
    },
    {
      "cell_type": "markdown",
      "metadata": {
        "id": "Z0RSlKzjwpoU"
      },
      "source": [
        "9. Generate a random number between 1 and 9 (including 1 and 9). Ask the user to guess the number, then tell them whether they guessed too low, too high, or exactly right. (Hint: remember to use the user input lessons from the very first exercise)\n",
        "\n",
        "Extras:\n",
        "\n",
        "Keep the game going until the user types “exit”\n",
        "Keep track of how many guesses the user has taken, and when the game ends, print this out."
      ]
    },
    {
      "cell_type": "code",
      "metadata": {
        "id": "rQHqnMngwjU3"
      },
      "source": [
        "import random\n"
      ],
      "execution_count": null,
      "outputs": []
    },
    {
      "cell_type": "markdown",
      "metadata": {
        "id": "JkXRf0qecqgO"
      },
      "source": [
        "10.\n",
        "\n",
        "Take two lists, say for example these two:\n",
        "\n",
        "\n",
        "\ta = [1, 1, 2, 3, 5, 8, 13, 21, 34, 55, 89]\n",
        "\tb = [1, 2, 3, 4, 5, 6, 7, 8, 9, 10, 11, 12, 13]\n",
        "\n",
        "and write a program that returns a list that contains only the elements that are common between the lists (without duplicates). Make sure your program works on two lists of different sizes. Write this in one line of Python using at least one list comprehension."
      ]
    },
    {
      "cell_type": "code",
      "metadata": {
        "colab": {
          "base_uri": "https://localhost:8080/"
        },
        "id": "jogbeeNqct4G",
        "outputId": "959d6734-ed24-4c49-a491-2365ec299025"
      },
      "source": [
        "import random\n",
        "\n",
        "a = random.sample(range(1, 30), 12)\n",
        "b = random.sample(range(1, 30), 16)\n",
        "print(a)\n",
        "print(b)\n",
        "print([i for i in set(a) if i in b])"
      ],
      "execution_count": null,
      "outputs": [
        {
          "output_type": "stream",
          "text": [
            "[12, 22, 24, 13, 27, 6, 17, 28, 14, 9, 1, 25]\n",
            "[20, 6, 3, 24, 29, 14, 11, 9, 2, 10, 4, 21, 19, 25, 22, 12]\n",
            "[6, 9, 12, 14, 22, 24, 25]\n"
          ],
          "name": "stdout"
        }
      ]
    },
    {
      "cell_type": "markdown",
      "metadata": {
        "id": "6WMGrUomjUBW"
      },
      "source": [
        "11. Ask the user for a number and determine whether the number is prime or not. (For those who have forgotten, a prime number is a number that has no divisors.)."
      ]
    },
    {
      "cell_type": "code",
      "metadata": {
        "colab": {
          "base_uri": "https://localhost:8080/"
        },
        "id": "4u_Z3RGvp-qq",
        "outputId": "9419dc9f-58d5-40cc-dc5c-08f4a2ba48a0"
      },
      "source": [
        "number = int(input(\"Enter any number: \"))\n",
        "\n",
        "if number > 1:\n",
        "    for i in range(2, number):\n",
        "        if (number % i) == 0:\n",
        "            print(number, \"is not a prime number\")\n",
        "            break\n",
        "    else:\n",
        "        print(number, \"is a prime number\")\n",
        "\n",
        "# if the entered number is less than or equal to 1\n",
        "# then it is not prime number\n",
        "else:\n",
        "    print(number, \"is not a prime number\")"
      ],
      "execution_count": null,
      "outputs": [
        {
          "output_type": "stream",
          "text": [
            "Enter any number: 57\n",
            "57 is not a prime number\n"
          ],
          "name": "stdout"
        }
      ]
    },
    {
      "cell_type": "markdown",
      "metadata": {
        "id": "ZVIni4HYspIc"
      },
      "source": [
        "12. Write a program that takes a list of numbers (for example, a = [5, 10, 15, 20, 25]) and makes a new list of only the first and last elements of the given list. For practice, write this code inside a function."
      ]
    },
    {
      "cell_type": "code",
      "metadata": {
        "id": "03dP-kIltKZ3"
      },
      "source": [
        "a = [5, 10, 15, 20, 25]"
      ],
      "execution_count": null,
      "outputs": []
    },
    {
      "cell_type": "code",
      "metadata": {
        "colab": {
          "base_uri": "https://localhost:8080/"
        },
        "id": "exTrSMAssxQU",
        "outputId": "926f9a07-0531-4aa2-9699-4a44fdb27696"
      },
      "source": [
        "\n",
        "def first_and_last():\n",
        "  #new =new_list()\n",
        "  #for i in a:\n",
        "    print(a[0])\n",
        "    print(a[-1])\n",
        "first_and_last()\n"
      ],
      "execution_count": null,
      "outputs": [
        {
          "output_type": "stream",
          "text": [
            "5\n",
            "25\n"
          ],
          "name": "stdout"
        }
      ]
    },
    {
      "cell_type": "markdown",
      "metadata": {
        "id": "vRucKIok0kFe"
      },
      "source": [
        "Write a program that asks the user how many Fibonnaci numbers to generate and then generates them. Take this opportunity to think about how you can use functions. Make sure to ask the user to enter the number of numbers in the sequence to generate.(Hint: The Fibonnaci seqence is a sequence of numbers where the next number in the sequence is the sum of the previous two numbers in the sequence."
      ]
    },
    {
      "cell_type": "code",
      "metadata": {
        "colab": {
          "base_uri": "https://localhost:8080/"
        },
        "id": "BSzjkG5RtDlv",
        "outputId": "03e9d020-4afd-418e-d1ef-7d86eb6b2d8e"
      },
      "source": [
        "# Program to display the Fibonacci sequence up to n-th term\n",
        "\n",
        "nterms = int(input(\"How many terms? \"))\n",
        "\n",
        "# first two terms\n",
        "n1, n2 = 0, 1\n",
        "count = 0\n",
        "\n",
        "# check if the number of terms is valid\n",
        "if nterms <= 0:\n",
        "   print(\"Please enter a positive integer\")\n",
        "elif nterms == 1:\n",
        "   print(\"Fibonacci sequence upto\",nterms,\":\")\n",
        "   print(n1)\n",
        "else:\n",
        "   print(\"Fibonacci sequence:\")\n",
        "   while count < nterms:\n",
        "       print(n1)\n",
        "       nth = n1 + n2\n",
        "       # update values\n",
        "       n1 = n2\n",
        "       n2 = nth\n",
        "       count += 1"
      ],
      "execution_count": null,
      "outputs": [
        {
          "output_type": "stream",
          "text": [
            "How many terms? 6\n",
            "Fibonacci sequence:\n",
            "0\n",
            "1\n",
            "1\n",
            "2\n",
            "3\n",
            "5\n"
          ],
          "name": "stdout"
        }
      ]
    },
    {
      "cell_type": "markdown",
      "metadata": {
        "id": "PwCe_2P13AEu"
      },
      "source": [
        "Write a program (function!) that takes a list and returns a new list that contains all the elements of the first list minus all the duplicates.\n",
        "\n",
        "Extras:\n",
        "\n",
        "Write two different functions to do this - one using a loop and constructing a list, and another using sets.\n",
        "Go back and do Exercise 5 using sets, and write the solution for that in a different function."
      ]
    },
    {
      "cell_type": "markdown",
      "metadata": {
        "id": "sjmAw7OSaX0l"
      },
      "source": [
        "Write a program (using functions!) that asks the user for a long string containing multiple words. Print back to the user the same string, except with the words in backwards order. For example, say I type the string:\n",
        "\n",
        "  My name is Michele\n",
        "  \n",
        "Then I would see the string:\n",
        "\n",
        "  Michele is name My\n",
        "shown back to me."
      ]
    },
    {
      "cell_type": "code",
      "metadata": {
        "id": "GshnXhaA3B50",
        "colab": {
          "base_uri": "https://localhost:8080/"
        },
        "outputId": "47709048-52de-4b95-f61a-90f70d160e44"
      },
      "source": [
        "\n",
        "string = \"My name is Michele\"\n",
        "words = string.split()\n",
        "words = list(reversed(words))\n",
        "print(\" \".join(words))"
      ],
      "execution_count": null,
      "outputs": [
        {
          "output_type": "stream",
          "text": [
            "Michele is name My\n"
          ],
          "name": "stdout"
        }
      ]
    },
    {
      "cell_type": "markdown",
      "metadata": {
        "id": "7RQ8XJGxcBPk"
      },
      "source": [
        "This is the first 4-chili exercise of this blog! We’ll see what people think, and decide whether or not to continue with 4-chili exercises in the future."
      ]
    },
    {
      "cell_type": "code",
      "metadata": {
        "id": "uJCnQZhncDE9"
      },
      "source": [
        ""
      ],
      "execution_count": null,
      "outputs": []
    },
    {
      "cell_type": "markdown",
      "metadata": {
        "id": "trCSKRkFcxKP"
      },
      "source": [
        ""
      ]
    },
    {
      "cell_type": "code",
      "metadata": {
        "id": "G9NK6wRadsB9"
      },
      "source": [
        "a = [1, 3, 5, 30, 42, 43, 500]\n",
        "\n",
        "q=int(input('Which number do you want to look for?'))\n",
        "while a != []:\n",
        "    #print(a)\n",
        "\n",
        "    mid=int(len(a)/2)\n",
        "\n",
        "    #print(a[mid])\n",
        "\n",
        "    if q==a[mid]:\n",
        "\n",
        "        print('The list contains %d.' % q)\n",
        "        quit()\n",
        "    elif q>a[mid]:\n",
        "\n",
        "        #print('higher')\n",
        "\n",
        "        del a[:mid+1]\n",
        "\n",
        " \n",
        "\n",
        "    elif q<a[mid]:\n",
        "\n",
        "        #print('lower')\n",
        "\n",
        "        del a[mid:]\n",
        "\n",
        " \n",
        "\n",
        "   \n",
        "#print(a)\n",
        "\n",
        " \n",
        "\n",
        "print('''The list doesn't contain %d.''' % q)"
      ],
      "execution_count": null,
      "outputs": []
    },
    {
      "cell_type": "markdown",
      "metadata": {
        "id": "UfKGRaU0gd4v"
      },
      "source": [
        "Create a program that will play the “cows and bulls” game with the user. The game works like this:\n",
        "\n",
        "Randomly generate a 4-digit number. Ask the user to guess a 4-digit number. For every digit that the user guessed correctly in the correct place, they have a “cow”. For every digit the user guessed correctly in the wrong place is a “bull.” Every time the user makes a guess, tell them how many “cows” and “bulls” they have. Once the user guesses the correct number, the game is over. Keep track of the number of guesses the user makes throughout teh game and tell the user at the end."
      ]
    },
    {
      "cell_type": "code",
      "metadata": {
        "id": "0qZr_Utrf8mm"
      },
      "source": [
        ""
      ],
      "execution_count": null,
      "outputs": []
    },
    {
      "cell_type": "code",
      "metadata": {
        "id": "6jjosmzpf9du"
      },
      "source": [
        ""
      ],
      "execution_count": null,
      "outputs": []
    }
  ]
}