{
 "cells": [
  {
   "cell_type": "code",
   "execution_count": 4,
   "metadata": {},
   "outputs": [
    {
     "name": "stdout",
     "output_type": "stream",
     "text": [
      "How strong do you want your password to be?\n",
      "Strong, Medium, Weak\n",
      "gg\n",
      "INVALID CHOICE!\n"
     ]
    }
   ],
   "source": [
    "import random\n",
    "import string\n",
    "\n",
    "strength = input('How strong do you want your password to be?\\nStrong, Medium, Weak\\n').upper()\n",
    "password=[]\n",
    "\n",
    "if strength == 'WEAK':\n",
    "    for n in range(5):\n",
    "        password.append(random.choice(string.ascii_letters))\n",
    "\n",
    "    for n in range(3):\n",
    "        password.append(random.choice(string.digits + string.punctuation))\n",
    "\n",
    "    password=''.join(password)\n",
    "    print('your password is \\n'+ password)\n",
    "\n",
    "elif strength == 'MEDIUM':\n",
    "    for n in range(8):\n",
    "        password.append(random.choice(string.ascii_letters))\n",
    "\n",
    "    for n in range(4):\n",
    "        password.append(random.choice(string.digits + string.punctuation))\n",
    "\n",
    "    password=''.join(password)\n",
    "    print('your password is \\n'+ password)\n",
    "\n",
    "\n",
    "elif strength == 'STRONG':\n",
    "    for n in range(14):\n",
    "        password.append(random.choice(string.ascii_letters))\n",
    "\n",
    "    for n in range(6):\n",
    "        password.append(random.choice(string.digits + string.punctuation))\n",
    "\n",
    "    password=''.join(password)\n",
    "    print('your password is \\n'+ password)\n",
    "\n",
    "else:\n",
    "    print('INVALID CHOICE!')\n"
   ]
  },
  {
   "cell_type": "code",
   "execution_count": null,
   "metadata": {},
   "outputs": [],
   "source": []
  },
  {
   "cell_type": "code",
   "execution_count": null,
   "metadata": {},
   "outputs": [],
   "source": []
  }
 ],
 "metadata": {
  "kernelspec": {
   "display_name": "Python 3",
   "language": "python",
   "name": "python3"
  },
  "language_info": {
   "codemirror_mode": {
    "name": "ipython",
    "version": 3
   },
   "file_extension": ".py",
   "mimetype": "text/x-python",
   "name": "python",
   "nbconvert_exporter": "python",
   "pygments_lexer": "ipython3",
   "version": "3.7.4"
  }
 },
 "nbformat": 4,
 "nbformat_minor": 4
}
