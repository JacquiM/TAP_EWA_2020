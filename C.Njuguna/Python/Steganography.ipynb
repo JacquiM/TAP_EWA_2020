{
 "cells": [
  {
   "cell_type": "markdown",
   "metadata": {},
   "source": [
    "### Install numpy version 1.19.3 "
   ]
  },
  {
   "cell_type": "code",
   "execution_count": 12,
   "metadata": {},
   "outputs": [
    {
     "name": "stderr",
     "output_type": "stream",
     "text": [
      "ERROR: Can not perform a '--user' install. User site-packages are not visible in this virtualenv.\n",
      "WARNING: You are using pip version 20.2.4; however, version 20.3.1 is available.\n",
      "You should consider upgrading via the 'C:\\Users\\christine.njuguna\\opencv\\Scripts\\python.exe -m pip install --upgrade pip' command.\n"
     ]
    }
   ],
   "source": [
    "#vesrion 1.19.4 giving errors\n",
    "#!pip install numpy==1.19.3"
   ]
  },
  {
   "cell_type": "code",
   "execution_count": 37,
   "metadata": {},
   "outputs": [],
   "source": [
    "import numpy as np\n",
    "import cv2"
   ]
  },
  {
   "cell_type": "markdown",
   "metadata": {},
   "source": [
    "### toBin to convert all int values to binary"
   ]
  },
  {
   "cell_type": "code",
   "execution_count": 38,
   "metadata": {},
   "outputs": [],
   "source": [
    "def toBin(data):\n",
    "    #Convert `data` to binary format as string\n",
    "    if type(data)== str:\n",
    "        return ''.join([ format(ord(i), \"08b\") for i in data ])\n",
    "    elif type(data)== bytes or type(data)== np.ndarray:\n",
    "        return [ format(i, \"08b\") for i in data ] \n",
    "    elif type(data)== int or type(data) == np.uint8:\n",
    "        return format(data, \"08b\")\n",
    "    else:\n",
    "        raise TypeError(\"Type not supported.\")"
   ]
  },
  {
   "cell_type": "markdown",
   "metadata": {},
   "source": [
    "### encode the message into the image"
   ]
  },
  {
   "cell_type": "code",
   "execution_count": 40,
   "metadata": {},
   "outputs": [],
   "source": [
    "def encode(image_name, secret_data):\n",
    "    \n",
    "    # read the image\n",
    "    image = cv2.imread(image_name)\n",
    "    \n",
    "    # maximum bytes to encode\n",
    "    n_bytes = image.shape[0] * image.shape[1] * 3 // 8\n",
    "    print(\"[*] Maximum bytes to encode:\", n_bytes)\n",
    "    \n",
    "    #check to see if the image size is enough to encode the message.\n",
    "    if len(secret_data) > n_bytes:\n",
    "        raise ValueError(\"[!] Insufficient bytes, need bigger image or less data.\")\n",
    "    print(\"[*] Encoding data...\")\n",
    "    \n",
    "    \n",
    "    # add stopping criteria so that while decoding you know where to stop\n",
    "    secret_data += \"=====\"\n",
    "    data_index = 0\n",
    "    \n",
    "    \n",
    "    # convert secret message to binary\n",
    "    binary_secret_data = toBin(secret_data)\n",
    "    \n",
    "    # size of data to hide\n",
    "    data_len = len(binary_secret_data)\n",
    "    \n",
    "    #Loop through each row and each pixel in each row\n",
    "    for row in image:\n",
    "        for pixel in row:\n",
    "            \n",
    "            # each pixel has an RGB value which needs to be converted to binary\n",
    "            r, g, b = toBin(pixel)\n",
    "            \n",
    "            # modify the least significant bit only if there is still data to store\n",
    "            if data_index < data_len:\n",
    "                # least significant red pixel bit\n",
    "                pixel[0] = int(r[:-1] + binary_secret_data[data_index], 2)\n",
    "                data_index += 1\n",
    "                \n",
    "            if data_index < data_len:\n",
    "                # least significant green pixel bit\n",
    "                pixel[1] = int(g[:-1] + binary_secret_data[data_index], 2)\n",
    "                data_index += 1\n",
    "                \n",
    "            if data_index < data_len:\n",
    "                # least significant blue pixel bit\n",
    "                pixel[2] = int(b[:-1] + binary_secret_data[data_index], 2)\n",
    "                data_index += 1\n",
    "                \n",
    "            # if all the data is encoded exit the loop\n",
    "            if data_index >= data_len:\n",
    "                break\n",
    "                \n",
    "    return image"
   ]
  },
  {
   "cell_type": "markdown",
   "metadata": {},
   "source": [
    "### Decode the image and retrieve the hidden message"
   ]
  },
  {
   "cell_type": "code",
   "execution_count": 41,
   "metadata": {},
   "outputs": [],
   "source": [
    "def decode(image_name):\n",
    "    print(\"[+] Decoding...\")\n",
    "    \n",
    "    # read the image\n",
    "    image = cv2.imread(image_name)\n",
    "    binary_data = \"\"\n",
    "    \n",
    "    #Loop through each row and each pixel in each row\n",
    "    for row in image:\n",
    "        for pixel in row:\n",
    "            r, g, b = toBin(pixel)\n",
    "            binary_data += r[-1]\n",
    "            binary_data += g[-1]\n",
    "            binary_data += b[-1]\n",
    "            \n",
    "    # split the continuous string of bits into a list of bytes\n",
    "    all_bytes = [ binary_data[i: i+8] for i in range(0, len(binary_data), 8) ]\n",
    "    \n",
    "    #print(all_bytes)\n",
    "    \n",
    "    # convert from bits to characters\n",
    "    decoded_data = \"\"\n",
    "    \n",
    "    for byte in all_bytes:\n",
    "        # chr() function converts int to unicode\n",
    "        decoded_data += chr(int(byte, 2))\n",
    "        \n",
    "        #when you arrive at the delimiter stop decoding\n",
    "        if decoded_data[-5:] == \"=====\":\n",
    "            break\n",
    "            \n",
    "    return decoded_data[:-5]"
   ]
  },
  {
   "cell_type": "code",
   "execution_count": null,
   "metadata": {},
   "outputs": [],
   "source": [
    "#Main method to tun the encode and decode modules\n",
    "input_image = \"image.PNG\"\n",
    "output_image = \"encoded_image.PNG\"\n",
    "secret_data = \"This is a top secret message.\"\n",
    "\n",
    "# start encoding\n",
    "encoded_image = encode(image_name=input_image, secret_data=secret_data)\n",
    "\n",
    "# save the output image (encoded image)\n",
    "cv2.imwrite(output_image, encoded_image)\n",
    "\n",
    "# start decoding\n",
    "decoded_data = decode(output_image)\n",
    "print(\"[+] Decoded data:\", decoded_data)"
   ]
  }
 ],
 "metadata": {
  "kernelspec": {
   "display_name": "Python 3",
   "language": "python",
   "name": "python3"
  },
  "language_info": {
   "codemirror_mode": {
    "name": "ipython",
    "version": 3
   },
   "file_extension": ".py",
   "mimetype": "text/x-python",
   "name": "python",
   "nbconvert_exporter": "python",
   "pygments_lexer": "ipython3",
   "version": "3.7.4"
  }
 },
 "nbformat": 4,
 "nbformat_minor": 4
}
