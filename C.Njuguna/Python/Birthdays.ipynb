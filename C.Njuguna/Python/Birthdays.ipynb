{
 "cells": [
  {
   "cell_type": "code",
   "execution_count": 3,
   "metadata": {},
   "outputs": [],
   "source": [
    "import json\n"
   ]
  },
  {
   "cell_type": "code",
   "execution_count": null,
   "metadata": {},
   "outputs": [
    {
     "name": "stdout",
     "output_type": "stream",
     "text": [
      "We know birthdays of: \n",
      "\n",
      "Albert Einstein\n",
      "Benjamin Franklin\n",
      "Ada Lovelace\n",
      "Adam\n",
      "john\n",
      "tom\n",
      "Christine\n"
     ]
    }
   ],
   "source": [
    "pathfile = r\"C:\\Users\\christine.njuguna\\OneDrive - NTT\\Documents\\bazday.json\"\n",
    "with open(pathfile, \"r\") as p:\n",
    "    new=json.load(p)\n",
    "    \n",
    "print('We know birthdays of: \\n')\n",
    "for k in new:\n",
    "    print(k)\n",
    "\n",
    "x=input('whose birthday do you want to know')\n",
    "\n",
    "#print(new.get(x,'no such thing'))\n",
    "\n",
    "\n",
    "try:\n",
    "    print(new[x])\n",
    "\n",
    "except KeyError:\n",
    "    print('No such thing')\n",
    "    y=input(f'But we can add it! When is the birthday for {x} /n')\n",
    "\n",
    "    new[x] = y\n",
    "    #print(new)\n",
    "\n",
    "    with open(pathfile,\"w\") as j:\n",
    "        json.dump(new,j)\n",
    "        \n",
    "    for k in new:\n",
    "        print(k)"
   ]
  },
  {
   "cell_type": "code",
   "execution_count": null,
   "metadata": {},
   "outputs": [],
   "source": []
  },
  {
   "cell_type": "code",
   "execution_count": null,
   "metadata": {},
   "outputs": [],
   "source": []
  }
 ],
 "metadata": {
  "kernelspec": {
   "display_name": "Python 3",
   "language": "python",
   "name": "python3"
  },
  "language_info": {
   "codemirror_mode": {
    "name": "ipython",
    "version": 3
   },
   "file_extension": ".py",
   "mimetype": "text/x-python",
   "name": "python",
   "nbconvert_exporter": "python",
   "pygments_lexer": "ipython3",
   "version": "3.7.4"
  }
 },
 "nbformat": 4,
 "nbformat_minor": 4
}
