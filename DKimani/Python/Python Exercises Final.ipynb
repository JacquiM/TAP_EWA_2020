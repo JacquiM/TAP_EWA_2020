{
 "cells": [
  {
   "cell_type": "markdown",
   "metadata": {},
   "source": [
    "### Exercise 1: Character Inputs\n",
    "Create a program that asks the user to enter their name and their age. Print out a message addressed to them that tells them the year that they will turn 100 years old."
   ]
  },
  {
   "cell_type": "code",
   "execution_count": 4,
   "metadata": {},
   "outputs": [
    {
     "name": "stdout",
     "output_type": "stream",
     "text": [
      "Enter your name: David\n",
      "David enter your age: 24\n",
      "24\n",
      "How many times do you want to print the result: 3\n",
      "David will turn 100 years in the year 2096\n",
      "David will turn 100 years in the year 2096\n",
      "David will turn 100 years in the year 2096\n"
     ]
    }
   ],
   "source": [
    "name = input(\"Enter your name: \")\n",
    "age = int(input(\"{} enter your age: \".format(name)))\n",
    "\n",
    "print(age)\n",
    "\n",
    "year = str((2020-age) + 100)\n",
    "\n",
    "number = int(input(\"How many times do you want to print the result: \"))\n",
    "for i in range(number):\n",
    "    print(\"{} will turn 100 years in the year \".format(name) + year)\n",
    "\n"
   ]
  },
  {
   "cell_type": "markdown",
   "metadata": {},
   "source": [
    "### Exercise 2: Odd or EVen\n",
    "Ask the user for a number. Depending on whether the number is even or odd, print out an appropriate message to the user."
   ]
  },
  {
   "cell_type": "code",
   "execution_count": 11,
   "metadata": {},
   "outputs": [
    {
     "name": "stdout",
     "output_type": "stream",
     "text": [
      "Enter a number :7\n",
      "The number is odd\n"
     ]
    }
   ],
   "source": [
    "num = int(input(\"Enter a number :\"))\n",
    "if num%4 == 0:\n",
    "    print(\"The number is a mulitiple of 4\")\n",
    "elif num%2 == 0:\n",
    "    print(\"The number even\")\n",
    "else:\n",
    "    print(\"The number is odd\")"
   ]
  },
  {
   "cell_type": "markdown",
   "metadata": {},
   "source": [
    "### Exercise 3: List Less than 10\n",
    "Take a list, say for example this one:\n",
    "  a = [1, 1, 2, 3, 5, 8, 13, 21, 34, 55, 89]\n",
    "and write a program that prints out all the elements of the list that are less than 5."
   ]
  },
  {
   "cell_type": "code",
   "execution_count": 12,
   "metadata": {},
   "outputs": [
    {
     "name": "stdout",
     "output_type": "stream",
     "text": [
      "[1, 1, 2, 3]\n"
     ]
    }
   ],
   "source": [
    "a = [1, 1, 2, 3, 5, 8, 13, 21, 34, 55, 89]\n",
    "\n",
    "print([i for i in a if i<5])"
   ]
  },
  {
   "cell_type": "markdown",
   "metadata": {},
   "source": [
    "### Exercise 4: Divisors\n",
    "Create a program that asks the user for a number and then prints out a list of all the divisors of that number. (If you don’t know what a divisor is, it is a number that divides evenly into another number."
   ]
  },
  {
   "cell_type": "code",
   "execution_count": null,
   "metadata": {},
   "outputs": [],
   "source": [
    "### Enter a number\n",
    "div_number = int(input())\n",
    "div_range = list(range(2,div_number+1))\n",
    "div_num = []\n",
    "for element in div_range:\n",
    "    if div_number%element == 0:\n",
    "        div_num.append(element)\n",
    "\n",
    "div_num"
   ]
  },
  {
   "cell_type": "markdown",
   "metadata": {},
   "source": [
    "### Exercise 5: List Overlap\n",
    "Take two lists, say for example these two:\n",
    "\n",
    "  a = [1, 1, 2, 3, 5, 8, 13, 21, 34, 55, 89]\n",
    "  b = [1, 2, 3, 4, 5, 6, 7, 8, 9, 10, 11, 12, 13]\n",
    "and write a program that returns a list that contains only the elements that are common between the lists (without duplicates). Make sure your program works on two lists of different sizes."
   ]
  },
  {
   "cell_type": "code",
   "execution_count": 14,
   "metadata": {},
   "outputs": [
    {
     "name": "stdout",
     "output_type": "stream",
     "text": [
      "[5, 6, 12, 19, 23, 14, 7, 11, 6, 5]\n",
      "[12, 19, 23, 14, 7, 11]\n",
      "[7, 11, 12, 14, 19, 23]\n"
     ]
    }
   ],
   "source": [
    "list1 = [5, 6,16, 12, 19, 23, 14, 3, 7, 9, 11, 6, 5]\n",
    "list2 = [5, 6, 12, 19, 23, 7, 11, 14, 20, 23, 29, 17, 14, 5]\n",
    "\n",
    "similar_items = [i for i in list1 if i in list2]\n",
    "print(similar_items)\n",
    "\n",
    "# Without duplicates\n",
    "similar_items = [i for i in similar_items if similar_items.count(i) == 1]\n",
    "print(similar_items)\n",
    "\n",
    "### Alternative removing duplicates\n",
    "similar_items = list(set(similar_items))\n",
    "print(similar_items)"
   ]
  },
  {
   "cell_type": "code",
   "execution_count": 33,
   "metadata": {},
   "outputs": [
    {
     "name": "stdout",
     "output_type": "stream",
     "text": [
      "[35, 41, 16, 25, 46, 32, 12, 43, 13, 3]\n",
      "[26, 29, 22, 14, 27, 19, 13, 18, 23, 28, 10, 12, 16, 25, 21]\n",
      "[16, 25, 12, 13]\n"
     ]
    }
   ],
   "source": [
    "## Using random numbers\n",
    "import random\n",
    "r_list1 = random.sample(range(2,50), 10)\n",
    "r_list2 = random.sample(range(10,30), 15)\n",
    "\n",
    "r_similar_items = [i for i in r_list1 if i in r_list2]\n",
    "print(r_list1)\n",
    "print(r_list2)\n",
    "print(r_similar_items)"
   ]
  },
  {
   "cell_type": "markdown",
   "metadata": {},
   "source": [
    "###  Exercise 6: String List\n",
    "Ask the user for a string and print out whether this string is a palindrome or not. (A palindrome is a string that reads the same forwards and backwards.)"
   ]
  },
  {
   "cell_type": "code",
   "execution_count": 17,
   "metadata": {},
   "outputs": [
    {
     "name": "stdout",
     "output_type": "stream",
     "text": [
      "Enter the word to check if it is a palindromeword\n",
      "The string is not a pallindrome\n"
     ]
    }
   ],
   "source": [
    "word = input(\"Enter the word to check if it is a palindrome\")\n",
    "\n",
    "check = \"\"\n",
    "\n",
    "for i in word:\n",
    "    check = i + check\n",
    "\n",
    "if check == word:\n",
    "    print(\"The string is pallindrome\")\n",
    "else:\n",
    "    print(\"The string is not a pallindrome\")\n"
   ]
  },
  {
   "cell_type": "markdown",
   "metadata": {},
   "source": [
    "### Exercise 7: List Comprehension\n"
   ]
  },
  {
   "cell_type": "code",
   "execution_count": 2,
   "metadata": {},
   "outputs": [
    {
     "data": {
      "text/plain": [
       "[4, 16, 36, 64, 100]"
      ]
     },
     "execution_count": 2,
     "metadata": {},
     "output_type": "execute_result"
    }
   ],
   "source": [
    "a = [1, 4, 9, 16, 25, 36, 49, 64, 81, 100]\n",
    "\n",
    "[i for i in a if i%2==0]"
   ]
  },
  {
   "cell_type": "markdown",
   "metadata": {},
   "source": [
    "### Exercise 8 Rock Paper Scissors\n",
    "Make a two-player Rock-Paper-Scissors game. (Hint: Ask for player plays (using input), compare them, print out a message of congratulations to the winner, and ask if the players want to start a new game)\n",
    "Remember the rules:\n",
    "Rock beats scissors\n",
    "Scissors beats paper\n",
    "Paper beats rock\n"
   ]
  },
  {
   "cell_type": "code",
   "execution_count": 3,
   "metadata": {},
   "outputs": [
    {
     "name": "stdout",
     "output_type": "stream",
     "text": [
      "Please enter the name of Player1: A\n",
      "Please enter the name of Player1: B\n",
      "A please choose one: \n",
      "1: Rock \n",
      "2: Scissors \n",
      "3: Paper\n",
      "1\n",
      "B please choose one: \n",
      "1: Rock \n",
      "2: Scissors \n",
      "3: Paper\n",
      "2\n",
      "A wins!\n",
      "Do you want to play another game \n",
      "1: Yes \n",
      "2: No \n",
      "1\n",
      "A please choose one: \n",
      "1: Rock \n",
      "2: Scissors \n",
      "3: Paper\n",
      "3\n",
      "B please choose one: \n",
      "1: Rock \n",
      "2: Scissors \n",
      "3: Paper\n",
      "2\n",
      "B wins!\n",
      "Do you want to play another game \n",
      "1: Yes \n",
      "2: No \n",
      "2\n",
      "The game is over\n"
     ]
    }
   ],
   "source": [
    "### Input Player Names\n",
    "Player1 = input(\"Please enter the name of Player1: \")\n",
    "Player2 = input(\"Please enter the name of Player1: \")\n",
    "\n",
    "playagain = 1\n",
    "while playagain == 1:\n",
    "    Player1_choice = int(input(\"{} please choose one: \\n1: Rock \\n2: Scissors \\n3: Paper\\n\".format(Player1)))\n",
    "    Player2_choice = int(input(\"{} please choose one: \\n1: Rock \\n2: Scissors \\n3: Paper\\n\".format(Player2)))\n",
    "\n",
    "    if Player1_choice not in range(1,4) or Player2_choice not in range(1,4):\n",
    "                print(\"Input out of range\")\n",
    "    elif Player1_choice == 1 and Player2_choice ==  2:\n",
    "        print(\"{} wins!\".format(Player1))\n",
    "\n",
    "    elif Player2_choice == 1 and Player1_choice ==  2:\n",
    "        print(\"{} wins!\".format(Player2))\n",
    "\n",
    "    elif Player1_choice == 2 and Player2_choice ==  3:\n",
    "        print(\"{} wins!\".format(Player1))\n",
    "\n",
    "    elif Player2_choice == 2 and Player1_choice ==  3:\n",
    "        print(\"{} wins!\".format(Player2))\n",
    "\n",
    "    elif Player1_choice == 3 and Player2_choice ==  1:\n",
    "        print(\"{} wins!\".format(Player1))\n",
    "\n",
    "    elif Player2_choice == 3 and Player1_choice ==  3:\n",
    "        print(\"{} wins!\".format(Player2))\n",
    "\n",
    "    playagain = int(input(\"Do you want to play another game \\n1: Yes \\n2: No \\n\"))\n",
    "else: \n",
    "    print(\"The game is over\")\n",
    "   \n",
    "\n"
   ]
  },
  {
   "cell_type": "markdown",
   "metadata": {},
   "source": [
    "### Exercise 9: Guessing Game One\n",
    "Generate a random number between 1 and 9 (including 1 and 9). Ask the user to guess the number, then tell them whether they guessed too low, too high, or exactly right. (Hint: remember to use the user input lessons from the very first exercise)"
   ]
  },
  {
   "cell_type": "code",
   "execution_count": 5,
   "metadata": {},
   "outputs": [
    {
     "name": "stdout",
     "output_type": "stream",
     "text": [
      "Guess a number between 1 and :5\n",
      "Too low! Try again :\n",
      "Enter a number between 1 and 9, else type 0 to exit :8\n",
      "Too high! Try again :\n",
      "Enter a number between 1 and 9, else type 0 to exit :6\n",
      "Too low! Try again :\n",
      "Enter a number between 1 and 9, else type 0 to exit :7\n",
      "Congratulations! You made a correct guess in 4 attempts\n",
      "Enter a number between 1 and 9, else type 0 to exit :0\n",
      "The game has ended\n"
     ]
    }
   ],
   "source": [
    "import random\n",
    "num = random.randint(1,9)\n",
    "guess_num =  int(input(\"Guess a number between 1 and :\"))\n",
    "\n",
    "count = 0\n",
    "while 1 <= guess_num <= 9:\n",
    "    count += 1\n",
    "    if num > guess_num:\n",
    "        print(\"Too low! Try again :\")\n",
    "        \n",
    "    elif num < guess_num:\n",
    "        print(\"Too high! Try again :\")  \n",
    "        \n",
    "    elif num == guess_num:\n",
    "        print(\"Congratulations! You made a correct guess in {} attempts\".format(count))\n",
    "        \n",
    "    guess_num =  int(input(\"Enter a number between 1 and 9, else type 0 to exit :\"))\n",
    "else:\n",
    "    print(\"The game has ended\")\n",
    "    \n"
   ]
  },
  {
   "cell_type": "markdown",
   "metadata": {},
   "source": [
    "### Exercise 10: List Overlap Comprehensions\n",
    "Take two lists, say for example these two:\n",
    "\n",
    "\ta = [1, 1, 2, 3, 5, 8, 13, 21, 34, 55, 89]\n",
    "\tb = [1, 2, 3, 4, 5, 6, 7, 8, 9, 10, 11, 12, 13]\n",
    "and write a program that returns a list that contains only the elements that are common between the lists (without duplicates). Make sure your program works on two lists of different sizes. "
   ]
  },
  {
   "cell_type": "code",
   "execution_count": 10,
   "metadata": {},
   "outputs": [
    {
     "data": {
      "text/plain": [
       "[1, 2, 3, 5, 8, 13]"
      ]
     },
     "execution_count": 10,
     "metadata": {},
     "output_type": "execute_result"
    }
   ],
   "source": [
    "a = [1, 1, 2, 3, 5, 8, 13, 21, 34, 55, 89]\n",
    "b = [1, 2, 3, 4, 5, 6, 7, 8, 9, 10, 11, 12, 13]\n",
    "\n",
    "result = [i for i in a if i in b]\n",
    "result\n",
    " \n",
    "## Remove duplicates\n",
    "result = list(set(result))\n",
    "\n",
    "result"
   ]
  },
  {
   "cell_type": "code",
   "execution_count": null,
   "metadata": {},
   "outputs": [],
   "source": []
  },
  {
   "cell_type": "code",
   "execution_count": null,
   "metadata": {},
   "outputs": [],
   "source": []
  }
 ],
 "metadata": {
  "kernelspec": {
   "display_name": "Python 3",
   "language": "python",
   "name": "python3"
  }
 },
 "nbformat": 4,
 "nbformat_minor": 4
}
