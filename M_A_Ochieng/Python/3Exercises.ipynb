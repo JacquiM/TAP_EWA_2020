{
 "cells": [
  {
   "cell_type": "markdown",
   "metadata": {},
   "source": [
    "# Python Excercises: Select 3"
   ]
  },
  {
   "cell_type": "markdown",
   "metadata": {},
   "source": [
    "# Exercise 7: One Liner"
   ]
  },
  {
   "cell_type": "code",
   "execution_count": 9,
   "metadata": {},
   "outputs": [
    {
     "name": "stdout",
     "output_type": "stream",
     "text": [
      "[4, 16, 36, 64, 100]\n"
     ]
    }
   ],
   "source": [
    "print([i for i in [1, 4, 9, 16, 25, 36, 49, 64, 81, 100] if i % 2 == 0])"
   ]
  },
  {
   "cell_type": "markdown",
   "metadata": {},
   "source": [
    "# Exercise 8: Rock, Paper, Scissors"
   ]
  },
  {
   "cell_type": "code",
   "execution_count": 14,
   "metadata": {},
   "outputs": [
    {
     "name": "stdout",
     "output_type": "stream",
     "text": [
      "Player1:\n",
      "Rock, Paper or Scissors?rock\n",
      "\n",
      "\n",
      "Player2:\n",
      "Rock, Paper or Scissors?paper\n",
      "\n",
      "\n",
      "Paper beats rock. Player 2 wins\n",
      "Would you like to play?Press enter to continue and no to exit:\n",
      "Player1:\n",
      "Rock, Paper or Scissors?stone\n",
      "\n",
      "\n",
      "Player2:\n",
      "Rock, Paper or Scissors?paper\n",
      "\n",
      "\n",
      "Ensure you both made the correct selection.\n",
      "Would you like to play?Press enter to continue and no to exit:no\n"
     ]
    }
   ],
   "source": [
    "cont = \" \"\n",
    "while(cont != \"no\"):\n",
    "    print(\"Player1:\")\n",
    "    player1 = (input(\"Rock, Paper or Scissors?\")).lower()\n",
    "    print(\"\\n\")\n",
    "\n",
    "    print(\"Player2:\")\n",
    "    player2 = (input(\"Rock, Paper or Scissors?\")).lower()\n",
    "    print(\"\\n\")\n",
    "    \n",
    "    #Outcome 1\n",
    "    if(player1 == \"rock\" and player2 == \"scissors\" ):\n",
    "        print(\"Rock beats scissors. Player 1 wins\")\n",
    "    elif(player1 == \"scissors\" and player2 == \"rock\" ):\n",
    "        print(\"Rock beats scissors. Player 2 wins\")\n",
    "\n",
    "    #Outcome 2\n",
    "    elif(player1 == \"scissors\" and player2 == \"paper\"):\n",
    "        print(\"Scissors beats paper. Player 1 wins\")\n",
    "    elif(player1 == \"paper\" and player2 == \"scissors\"):\n",
    "        print(\"Scissors beats paper. Player 2 wins\")\n",
    "\n",
    "    #Outcome 3\n",
    "    elif(player1 == \"paper\" and player2 == \"rock\"):\n",
    "        print(\"Paper beats rock. Player 1 wins\")\n",
    "    elif(player1 == \"rock\" and player2 == \"paper\"):\n",
    "        print(\"Paper beats rock. Player 2 wins\")\n",
    "    else:\n",
    "        print(\"Ensure you both made the correct selection.\")\n",
    "    cont = (input(\"Would you like to play?Press enter to continue and no to exit:\")).lower()\n"
   ]
  },
  {
   "cell_type": "markdown",
   "metadata": {},
   "source": [
    "# Exercise 9"
   ]
  },
  {
   "cell_type": "code",
   "execution_count": 4,
   "metadata": {},
   "outputs": [
    {
     "name": "stdout",
     "output_type": "stream",
     "text": [
      "I am thinking of a number between 0 and 10,what is it? 5\n",
      "\n",
      "Whoa!Too high!\n",
      "\n",
      "Try again or type exit to leave, press enter to continue...\n",
      "\n",
      "I am thinking of a number between 0 and 10,what is it? 2\n",
      "\n",
      "You guessed right, it's  2 \n",
      "\n",
      "Only numbers BETWEEN 0 and 10. This excludes 0 and 10.\n",
      "\n",
      "Try again or type exit to leave, press enter to continue...\n",
      "exit\n",
      "You have played  2  times.\n"
     ]
    }
   ],
   "source": [
    "import random\n",
    "\n",
    "counter = 0\n",
    "choice = \" \"\n",
    "randNum = random.randint(1,9)\n",
    "while(choice != \"exit\"):\n",
    "    userInput = int(input(\"I am thinking of a number between 0 and 10,what is it? \"))\n",
    "    \n",
    "    if(userInput == randNum):\n",
    "        print(\"\\nYou guessed right, it's \",randNum, \"\\n\")\n",
    "        \n",
    "    if(userInput < randNum and userInput > 0):\n",
    "        print(\"\\nDang!Too low!\\n\")\n",
    "        \n",
    "    if(userInput > randNum and userInput < 10 ):\n",
    "        print(\"\\nWhoa!Too high!\\n\")\n",
    "        \n",
    "    else:\n",
    "        print(\"Only numbers BETWEEN 0 and 10. This excludes 0 and 10.\\n\")\n",
    "        \n",
    "    counter = counter + 1    \n",
    "    choice = input(\"Try again or type exit to leave, press enter to continue...\\n\")\n",
    "    if(choice == \"exit\"):\n",
    "        print(\"You have played \",counter, \" times.\")"
   ]
  },
  {
   "cell_type": "code",
   "execution_count": null,
   "metadata": {},
   "outputs": [],
   "source": []
  }
 ],
 "metadata": {
  "kernelspec": {
   "display_name": "Python 3",
   "language": "python",
   "name": "python3"
  }
 },
 "nbformat": 4,
 "nbformat_minor": 4
}
