{
 "cells": [
  {
   "cell_type": "markdown",
   "metadata": {},
   "source": [
    "# Python Excercises"
   ]
  },
  {
   "cell_type": "markdown",
   "metadata": {},
   "source": [
    "# Exercise 1 "
   ]
  },
  {
   "cell_type": "code",
   "execution_count": 5,
   "metadata": {},
   "outputs": [
    {
     "name": "stdout",
     "output_type": "stream",
     "text": [
      "Please enter name.M\n",
      "Please enter your age.25\n",
      "You will turn 100 in the year 75\n",
      "\n",
      "You will turn 100 in the year 75\n",
      "\n",
      "You will turn 100 in the year 75\n",
      "\n"
     ]
    }
   ],
   "source": [
    "name = input(\"Please enter name.\")\n",
    "age = int(input(\"Please enter your age.\"))\n",
    "\n",
    "hunnid = 100-age\n",
    "print(\"You will turn 100 in the year \"  + str(hunnid) +\"\\n\")\n",
    "print(\"You will turn 100 in the year \"  + str(hunnid) +\"\\n\")\n",
    "print(\"You will turn 100 in the year \"  + str(hunnid) +\"\\n\")\n"
   ]
  },
  {
   "cell_type": "markdown",
   "metadata": {},
   "source": [
    "# Exercise 2"
   ]
  },
  {
   "cell_type": "code",
   "execution_count": 13,
   "metadata": {},
   "outputs": [
    {
     "name": "stdout",
     "output_type": "stream",
     "text": [
      "Enter any number1\n",
      "how does an odd number react differently when divided by 2 ?\n",
      "Enter another number4\n",
      "Enter a check number2\n",
      "4 divides into 2 perfectly.\n"
     ]
    }
   ],
   "source": [
    "num = int(input(\"Enter any number\"))\n",
    "if (num % 2 == 0):\n",
    "    print(\"how does an even number react differently when divided by 2?\")\n",
    "if(num % 4 == 0):\n",
    "    print(\"How does a multiple of 4 react differently when divided by 2 ?\")\n",
    "else:\n",
    "    print(\"how does an odd number react differently when divided by 2 ?\")\n",
    "    \n",
    "num2 = int(input(\"Enter another number\"))\n",
    "check = int(input(\"Enter a check number\"))\n",
    "\n",
    "if(num2 % check == 0):\n",
    "    print(str(num2) + \" divides into \" + str(check) + \" perfectly.\")\n",
    "else:\n",
    "    print(str(num2) + \" doesn't divide into\" + str(check) + \" perfectly.\")"
   ]
  },
  {
   "cell_type": "markdown",
   "metadata": {},
   "source": [
    "# Exercise 3"
   ]
  },
  {
   "cell_type": "code",
   "execution_count": 53,
   "metadata": {},
   "outputs": [
    {
     "name": "stdout",
     "output_type": "stream",
     "text": [
      "Numbers less than 5 :\n",
      "Position  0 : [1]\n",
      "Position  1 : [1]\n",
      "Position  2 : [2]\n",
      "Position  3 : [3]\n",
      "\n",
      "\n",
      "Please enter a number: 21\n",
      "Numbers less than  21  :\n",
      "Position  0  : [1]\n",
      "Position  1  : [1]\n",
      "Position  2  : [2]\n",
      "Position  3  : [3]\n",
      "Position  4  : [5]\n",
      "Position  5  : [8]\n",
      "Position  6  : [13]\n"
     ]
    }
   ],
   "source": [
    "a = [1, 1, 2, 3, 5, 8, 13, 21, 34, 55, 89]\n",
    "\n",
    "print(\"Numbers less than 5 :\")\n",
    "position = 0\n",
    "for element in a:\n",
    "    if(element<5):\n",
    "        lessFive =[]\n",
    "        lessFive.append(element)\n",
    "        print(\"Position \",position,\":\",lessFive)\n",
    "        position = position + 1\n",
    "\n",
    "print(\"\\n\")\n",
    "position2 = 0\n",
    "num = int(input(\"Please enter a number: \"))\n",
    "print(\"Numbers less than \",num,\" :\")\n",
    "for i in a:\n",
    "    if(i<num):\n",
    "        newArr = []\n",
    "        newArr.append(i)\n",
    "        print(\"Position \",position2,\" :\", newArr)\n",
    "        position2 = position2 + 1\n",
    "\n"
   ]
  },
  {
   "cell_type": "markdown",
   "metadata": {},
   "source": [
    "# Exercise 4"
   ]
  },
  {
   "cell_type": "code",
   "execution_count": 78,
   "metadata": {},
   "outputs": [
    {
     "name": "stdout",
     "output_type": "stream",
     "text": [
      "Please enter a number: 50\n",
      "Numbers divisible by  50\n",
      "50\n",
      "100\n"
     ]
    }
   ],
   "source": [
    "num = int(input(\"Please enter a number: \"))\n",
    "divList = range(1,101)\n",
    "\n",
    "print(\"Numbers divisible by \",num)\n",
    "for i in divList:\n",
    "    if(i % num == 0):\n",
    "        print(i)"
   ]
  },
  {
   "cell_type": "markdown",
   "metadata": {},
   "source": [
    "# Exercise 5"
   ]
  },
  {
   "cell_type": "code",
   "execution_count": 85,
   "metadata": {
    "scrolled": true
   },
   "outputs": [
    {
     "name": "stdout",
     "output_type": "stream",
     "text": [
      "Please enter a list of numbers, separate by space :1 1 1 1 21 34 50 98 99 7 8 87 65 56 44 4 3 5 6 7\n",
      "[1, 3, 5, 8, 21, 34]\n"
     ]
    }
   ],
   "source": [
    "a = [1, 1, 2, 3, 5, 8, 13, 21, 34, 55, 89]\n",
    "\n",
    "#Get numbers for list from users\n",
    "userInput = input(\"Please enter a list of numbers, separate by space :\")\n",
    "\n",
    "#Create list using user input\n",
    "b = userInput.split()\n",
    "\n",
    "#convert list elements to int\n",
    "b = [int(i) for i in b]\n",
    "\n",
    "#Empty list to place our distinct values\n",
    "c=[]\n",
    "for num in a:\n",
    "    for num2 in b:\n",
    "        if(num == num2):\n",
    "             if(num not in c):\n",
    "                c.append(num)\n",
    "print(c)\n",
    "            "
   ]
  },
  {
   "cell_type": "markdown",
   "metadata": {},
   "source": [
    "# Exercise 6: Palindrome"
   ]
  },
  {
   "cell_type": "code",
   "execution_count": 99,
   "metadata": {},
   "outputs": [
    {
     "name": "stdout",
     "output_type": "stream",
     "text": [
      "Please enter a word : Level\n",
      "Level  is a palindrome. Backwards it's :  leveL\n"
     ]
    }
   ],
   "source": [
    "word = input(\"Please enter a word : \")\n",
    "palindrome = word[::-1]\n",
    "if(word.lower() == palindrome.lower()): #change both to lowercase to avoid errors\n",
    "    print(word,\" is a palindrome. Backwards it's : \", palindrome)\n",
    "else:\n",
    "    print(word,\" is not a palindrom.\")"
   ]
  },
  {
   "cell_type": "markdown",
   "metadata": {},
   "source": [
    "# Exercise 7: One Liner"
   ]
  },
  {
   "cell_type": "code",
   "execution_count": 103,
   "metadata": {
    "scrolled": false
   },
   "outputs": [
    {
     "name": "stdout",
     "output_type": "stream",
     "text": [
      "[4, 16, 36, 64, 100]\n"
     ]
    }
   ],
   "source": [
    "print([i for i in [1, 4, 9, 16, 25, 36, 49, 64, 81, 100] if i % 2 == 0])"
   ]
  },
  {
   "cell_type": "markdown",
   "metadata": {},
   "source": [
    "# Exercise 8: Rock, Paper, Scissors"
   ]
  },
  {
   "cell_type": "code",
   "execution_count": 105,
   "metadata": {},
   "outputs": [
    {
     "name": "stdout",
     "output_type": "stream",
     "text": [
      "Player1:\n",
      "Rock, Paper or Scissors?rock\n",
      "\n",
      "\n",
      "Player2:\n",
      "Rock, Paper or Scissors?paper\n",
      "\n",
      "\n",
      "Paper beats rock. Player 2 wins\n",
      "Would you like to play?Press enter to continue and no to exit:\n",
      "Player1:\n",
      "Rock, Paper or Scissors?stone\n",
      "\n",
      "\n",
      "Player2:\n",
      "Rock, Paper or Scissors?paper\n",
      "\n",
      "\n",
      "Ensure you both made the correct selection.\n",
      "Would you like to play?Press enter to continue and no to exit:no\n"
     ]
    }
   ],
   "source": [
    "cont = \" \"\n",
    "while(cont != \"no\"):\n",
    "    print(\"Player1:\")\n",
    "    player1 = (input(\"Rock, Paper or Scissors?\")).lower()\n",
    "    print(\"\\n\")\n",
    "\n",
    "    print(\"Player2:\")\n",
    "    player2 = (input(\"Rock, Paper or Scissors?\")).lower()\n",
    "    print(\"\\n\")\n",
    "    \n",
    "    #Outcome 1\n",
    "    if(player1 == \"rock\" and player2 == \"scissors\" ):\n",
    "        print(\"Rock beats scissors. Player 1 wins\")\n",
    "    elif(player1 == \"scissors\" and player2 == \"rock\" ):\n",
    "        print(\"Rock beats scissors. Player 2 wins\")\n",
    "\n",
    "    #Outcome 2\n",
    "    elif(player1 == \"scissors\" and player2 == \"paper\"):\n",
    "        print(\"Scissors beats paper. Player 1 wins\")\n",
    "    elif(player1 == \"paper\" and player2 == \"scissors\"):\n",
    "        print(\"Scissors beats paper. Player 2 wins\")\n",
    "\n",
    "    #Outcome 3\n",
    "    elif(player1 == \"paper\" and player2 == \"rock\"):\n",
    "        print(\"Paper beats rock. Player 1 wins\")\n",
    "    elif(player1 == \"rock\" and player2 == \"paper\"):\n",
    "        print(\"Paper beats rock. Player 2 wins\")\n",
    "    else:\n",
    "        print(\"Ensure you both made the correct selection.\")\n",
    "    cont = (input(\"Would you like to play?Press enter to continue and no to exit:\")).lower()"
   ]
  },
  {
   "cell_type": "markdown",
   "metadata": {},
   "source": [
    "# Exercise 9"
   ]
  },
  {
   "cell_type": "code",
   "execution_count": 102,
   "metadata": {},
   "outputs": [
    {
     "name": "stdout",
     "output_type": "stream",
     "text": [
      "I am thinking of a number between 0 and 10,what is it? 0\n",
      "Only numbers BETWEEN 0 and 10. This excludes 0 and 10.\n",
      "\n",
      "Try again or type exit to leave, press enter to continue...\n",
      "\n",
      "I am thinking of a number between 0 and 10,what is it? 3\n",
      "\n",
      "Dang!Too low!\n",
      "\n",
      "Only numbers BETWEEN 0 and 10. This excludes 0 and 10.\n",
      "\n",
      "Try again or type exit to leave, press enter to continue...\n",
      "\n",
      "I am thinking of a number between 0 and 10,what is it? 5\n",
      "\n",
      "Dang!Too low!\n",
      "\n",
      "Only numbers BETWEEN 0 and 10. This excludes 0 and 10.\n",
      "\n",
      "Try again or type exit to leave, press enter to continue...\n",
      "exit\n",
      "You have played  3  times.\n"
     ]
    }
   ],
   "source": [
    "import random\n",
    "\n",
    "counter = 0\n",
    "choice = \" \"\n",
    "randNum = random.randint(1,9)\n",
    "while(choice != \"exit\"):\n",
    "    userInput = int(input(\"I am thinking of a number between 0 and 10,what is it? \"))\n",
    "    \n",
    "    if(userInput == randNum):\n",
    "        print(\"\\nYou guessed right, it's \",randNum, \"\\n\")\n",
    "        \n",
    "    if(userInput < randNum and userInput > 0):\n",
    "        print(\"\\nDang!Too low!\\n\")\n",
    "        \n",
    "    if(userInput > randNum and userInput < 10 ):\n",
    "        print(\"\\nWhoa!Too high!\\n\")\n",
    "        \n",
    "    else:\n",
    "        print(\"Only numbers BETWEEN 0 and 10. This excludes 0 and 10.\\n\")\n",
    "        \n",
    "    counter = counter + 1    \n",
    "    choice = input(\"Try again or type exit to leave, press enter to continue...\\n\")\n",
    "    if(choice == \"exit\"):\n",
    "        print(\"You have played \",counter, \" times.\")"
   ]
  },
  {
   "cell_type": "code",
   "execution_count": null,
   "metadata": {},
   "outputs": [],
   "source": []
  }
 ],
 "metadata": {
  "kernelspec": {
   "display_name": "Python 3",
   "language": "python",
   "name": "python3"
  },
  "language_info": {
   "codemirror_mode": {
    "name": "ipython",
    "version": 3
   },
   "file_extension": ".py",
   "mimetype": "text/x-python",
   "name": "python",
   "nbconvert_exporter": "python",
   "pygments_lexer": "ipython3",
   "version": "3.7.4"
  }
 },
 "nbformat": 4,
 "nbformat_minor": 4
}
